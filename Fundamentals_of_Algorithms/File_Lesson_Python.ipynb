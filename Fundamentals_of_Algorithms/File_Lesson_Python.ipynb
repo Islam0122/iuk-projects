{
 "cells": [
  {
   "cell_type": "markdown",
   "id": "335195d1",
   "metadata": {},
   "source": [
    "# 📘 Урок: Работа с файлами в Python"
   ]
  },
  {
   "cell_type": "markdown",
   "id": "d5b1e923",
   "metadata": {},
   "source": [
    "\n",
    "В этом уроке ты узнаешь, как работать с файлами в Python.  \n",
    "Мы разберём чтение, запись, добавление данных и работу с позициями курсора.\n",
    "\n",
    "Создай рядом два файла:\n",
    "- `main.ipynb` — этот Jupyter Notebook  \n",
    "- `books.txt` — исходный файл с данными  \n",
    "\n",
    "### 📄 Пример содержимого файла `books.txt`:\n",
    "```\n",
    "Harry Potter and the Sorcerer's Stone\n",
    "The Hobbit\n",
    "The Little Prince\n",
    "To Kill a Mockingbird\n",
    "1984\n",
    "```\n"
   ]
  },
  {
   "cell_type": "code",
   "id": "6d37795b",
   "metadata": {
    "ExecuteTime": {
     "end_time": "2025-10-22T09:09:36.568928Z",
     "start_time": "2025-10-22T09:09:36.565690Z"
    }
   },
   "source": [
    "# --- ОТКРЫТИЕ ФАЙЛА ---\n",
    "file = open(\"books.txt\", \"r\", encoding=\"utf-8\")\n",
    "\n",
    "print(\"📂 1. Объект файла:\")\n",
    "print(file)\n",
    "\n",
    "print(\"\\n📖 2. Чтение первых 21 символа:\")\n",
    "print(file.read(21))\n",
    "\n",
    "print(\"\\n📖 3. Чтение следующей строки:\")\n",
    "print(file.readline())\n",
    "\n",
    "print(\"\\n📖 4. Чтение оставшихся строк как список:\")\n",
    "print(file.readlines())\n",
    "\n",
    "print(\"\\n📍 5. Позиция курсора после чтения:\", file.tell())\n",
    "\n",
    "file.seek(0)\n",
    "print(\"\\n🔁 6. После seek(0):\", file.tell())\n",
    "print(\"Снова читаем первые 10 символов:\", file.read(10))\n",
    "\n",
    "file.close()\n",
    "print(\"\\n❌ 7. Файл закрыт:\", file.closed)\n"
   ],
   "outputs": [
    {
     "name": "stdout",
     "output_type": "stream",
     "text": [
      "📂 1. Объект файла:\n",
      "<_io.TextIOWrapper name='books.txt' mode='r' encoding='utf-8'>\n",
      "\n",
      "📖 2. Чтение первых 21 символа:\n",
      "hello\n",
      "asasd\n",
      "\n",
      "📖 3. Чтение следующей строки:\n",
      "\n",
      "\n",
      "📖 4. Чтение оставшихся строк как список:\n",
      "[]\n",
      "\n",
      "📍 5. Позиция курсора после чтения: 11\n",
      "\n",
      "🔁 6. После seek(0): 0\n",
      "Снова читаем первые 10 символов: hello\n",
      "asas\n",
      "\n",
      "❌ 7. Файл закрыт: True\n"
     ]
    }
   ],
   "execution_count": 4
  },
  {
   "cell_type": "code",
   "id": "a159ce9b",
   "metadata": {
    "ExecuteTime": {
     "end_time": "2025-10-22T09:09:57.107453Z",
     "start_time": "2025-10-22T09:09:57.104493Z"
    }
   },
   "source": [
    "# --- АВТОМАТИЧЕСКОЕ ОТКРЫТИЕ ЧЕРЕЗ 'with' ---\n",
    "print(\"\\n✅ 8. Работа с файлом через 'with open()' (автоматически закрывает):\")\n",
    "with open(\"books.txt\", \"r\", encoding=\"utf-8\") as f:\n",
    "    for line in f:\n",
    "        print(line.strip())\n"
   ],
   "outputs": [
    {
     "name": "stdout",
     "output_type": "stream",
     "text": [
      "\n",
      "✅ 8. Работа с файлом через 'with open()' (автоматически закрывает):\n",
      "hello\n",
      "asasd\n"
     ]
    }
   ],
   "execution_count": 10
  },
  {
   "cell_type": "code",
   "id": "3cd65379",
   "metadata": {
    "ExecuteTime": {
     "end_time": "2025-10-22T09:09:36.599516Z",
     "start_time": "2025-10-22T09:09:36.595537Z"
    }
   },
   "source": [
    "# --- ЗАПИСЬ В ФАЙЛ ---\n",
    "print(\"\\n✏️ 9. Запись в новый файл:\")\n",
    "with open(\"new_books.txt\", \"w\", encoding=\"utf-8\") as f:\n",
    "    f.write(\"The Alchemist\\n\")\n",
    "    f.write(\"The Great Gatsby\\n\")\n",
    "    f.writelines([\"War and Peace\\n\", \"Pride and Prejudice\\n\"])\n",
    "\n",
    "print(\"✅ Данные успешно записаны в new_books.txt\")\n",
    "\n",
    "# --- ДОБАВЛЕНИЕ В ФАЙЛ ---\n",
    "print(\"\\n➕ 10. Добавление данных:\")\n",
    "with open(\"new_books.txt\", \"a\", encoding=\"utf-8\") as f:\n",
    "    f.write(\"Added later: Dune\\n\")\n",
    "\n",
    "# Проверим результат\n",
    "print(\"\\n📄 11. Содержимое new_books.txt:\")\n",
    "with open(\"new_books.txt\", \"r\", encoding=\"utf-8\") as f:\n",
    "    print(f.read())\n"
   ],
   "outputs": [
    {
     "name": "stdout",
     "output_type": "stream",
     "text": [
      "\n",
      "✏️ 9. Запись в новый файл:\n",
      "✅ Данные успешно записаны в new_books.txt\n",
      "\n",
      "➕ 10. Добавление данных:\n",
      "\n",
      "📄 11. Содержимое new_books.txt:\n",
      "The Alchemist\n",
      "The Great Gatsby\n",
      "War and Peace\n",
      "Pride and Prejudice\n",
      "Added later: Dune\n",
      "\n"
     ]
    }
   ],
   "execution_count": 6
  },
  {
   "cell_type": "markdown",
   "id": "f90a84b1",
   "metadata": {},
   "source": [
    "\n",
    "---\n",
    "\n",
    "## 🧠 Таблица режимов открытия файла\n",
    "\n",
    "| Режим | Описание |\n",
    "|-------|-----------|\n",
    "| `\"r\"` | Чтение (файл должен существовать) |\n",
    "| `\"w\"` | Запись (если файл существует — **удалит всё содержимое**) |\n",
    "| `\"a\"` | Добавление (запись в конец файла) |\n",
    "| `\"r+\"` | Чтение и запись |\n",
    "| `\"w+\"` | Создаёт новый файл для чтения и записи |\n",
    "| `\"a+\"` | Добавление и чтение |\n",
    "\n",
    "---\n",
    "\n",
    "## 📍 Основные методы\n",
    "\n",
    "| Метод | Что делает |\n",
    "|--------|-------------|\n",
    "| `read(n)` | Читает `n` символов или весь файл |\n",
    "| `readline()` | Читает одну строку |\n",
    "| `readlines()` | Читает все строки и возвращает список |\n",
    "| `write()` | Записывает строку |\n",
    "| `writelines()` | Записывает список строк |\n",
    "| `seek(pos)` | Перемещает курсор в позицию `pos` |\n",
    "| `tell()` | Показывает текущую позицию курсора |\n",
    "| `close()` | Закрывает файл |\n",
    "| `with open()` | Автоматически закрывает файл |\n"
   ]
  }
 ],
 "metadata": {},
 "nbformat": 4,
 "nbformat_minor": 5
}
